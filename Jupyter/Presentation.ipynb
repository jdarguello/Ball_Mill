{
 "cells": [
  {
   "cell_type": "markdown",
   "metadata": {
    "slideshow": {
     "slide_type": "slide"
    }
   },
   "source": [
    "---\n",
    "<div align=\"justify\">\n",
    "    <h1><strong>An automation approach of the mechanical design and manufacturing of ball mills</strong></h1>\n",
    "    <h2>Juan D. Argüello$^a$, Omar A. Gélvez$^b$, Jairo R. Martínez$^c$, Diego C. Durán$^c$, Elena E. Stashenko$^c$</h2>\n",
    "    <foot><i>$^a$Universidad Industrial de Santander, Escuela de Ingeniería Mecánica, Centro Nacional de Investigaciones para la Agroindustrialización de Especies Vegetales Aromáticas y Medicinales Tropicales - CENIVAM. Bucaramanga, Colombia.</i></foot>\n",
    "    <br>\n",
    "    <foot><i>$^b$Universidad Industrial de Santander, Escuela de Ingeniería Mecánica, Grupo de Investigación en Energía y Medio Ambiente - GIEMA. Bucaramanga, Colombia.</i></foot>\n",
    "    <br>\n",
    "    <foot><i>$^c$Universidad Industrial de Santander, Escuela de Química, Centro de Investigación en Biomoléculas - CIBIMOL y Centro Nacional de Investigaciones para la Agroindustrialización de Especies Vegetales Aromáticas y Medicinales Tropicales - CENIVAM. Bucaramanga, Colombia.</i></foot>\n",
    "</div>\n",
    "\n",
    "---"
   ]
  },
  {
   "cell_type": "markdown",
   "metadata": {},
   "source": [
    "<div align=\"center\">\n",
    "    <h2><strong>Abstract</strong></h2>\n",
    "    Engineering design is taking a new step forward with technological advances. <i>Open source</i> tools, such as Python, make it possible to develop calculation and validation algorithms to automate design procedures. Ball mills stands out as a solution for crushing processes, specially in the civil industry, which its design procedure requires the study of the cynematic of the balls and the dynamical interaction between them and the mill. Numerical simulations are usually used as a validation tool, but also as an optimization one. For this particular case, there were used two numerical methods: the <i>Discrete Element Method</i> (DEM), used to validate the cynematic theoretical study, optimize it and to predict the impact distribution energy over the mill; and the <i>Finite Element Method</i> (FEM), which was used to predict, and guarantee, an adecuate structural behaviour of the mill. The present work also create automatic engineering reports (both TeX and PDF formats), CAD drawings of the designed ball mill (dxf format) and an automatic quantification of the required materials for manufacturing. All of the above can be summarized in three principal stages, or chapters: the first one is related to the theoretical study, the second one to the numerical simulations and the last one to the obtained results.\n",
    "</div>\n",
    "\n",
    "_Keywords:_ ball mill, automation, mechanical design, FEM, DEM, FEniCS, Python.\n",
    "\n",
    "---"
   ]
  },
  {
   "cell_type": "markdown",
   "metadata": {
    "slideshow": {
     "slide_type": "slide"
    }
   },
   "source": [
    "## __1. Introduction__\n",
    "\n",
    "### _1.1. Background and Motivation_\n",
    "\n",
    "<div align=\"justify\">\n",
    "    In recent years, there have been reported several studies where automation has been used in engineering design. For the production of nuclear energy, it can be found different studies, such as: the design of reactor cores$^{[1]}$, from where Hyun Kim <i>et al</i> uses an artificial neural network to provide, and evaluate, new types of geometries; Nomen <i>et al</i> developed a methodology to create the design of IFMIF LIPAc beam dump shielding$^{[2]}$, which provides an acelerator-based, D-Li neutron source to produce energy of high intensity by radiation; and Kim J <i>et al</i> created an autonomous operation system$^{[3]}$ with artificial intelligence which perform the control functions needed for the emergency operation of a nuclear power plant.\n",
    "    <br>\n",
    "    <br>\n",
    "    In civil engineering, there is a specialized journal known as \"Automation in Construction\", which has published different studies related to automatic structural and seismic designs. In mechanical design, it can be found studies related with automaton in the automotive industry, like:  \n",
    "</div>"
   ]
  },
  {
   "cell_type": "markdown",
   "metadata": {
    "slideshow": {
     "slide_type": "slide"
    }
   },
   "source": [
    "## __1. Proceso de extracción__\n",
    "\n",
    "<div align=\"justify\">\n",
    "    La planta de extracción a diseñar pertenece a una cadena de producción destinada a la comercialización de <i>aceite esencial</i>, <i>extracto</i> y <i>material de compostaje</i>, como se muestra en la Figura 1.\n",
    "</div>\n",
    "\n",
    "<div align=\"center\">\n",
    "    <img src=\"Images/bio.PNG\" style=\"width: 500px;\" />\n",
    "</div>\n",
    "<div align=\"center\">\n",
    "    <i>Figura 1.</i> Esquema General de la biofábrica.\n",
    "</div>\n",
    "\n",
    "<div align=\"justify\">\n",
    "    La planta a diseñar presenta tres etapas:\n",
    "</div>\n",
    "\n",
    "* _Preprocesamiento:_ consiste en la disminución del tamaño de partícula del material vegetal.\n",
    "* _Elución y Filtrado:_ etapa en donde el material procesado entra en contacto con un solvente, que posee la capacidad de atraer el extracto, y se realiza el filtrado de la mezcla entre el _material procesado_ y la _mezcla solvente - extracto._ \n",
    "* _Separación de sustancias:_ proceso en donde se recupera el solvente procedente la mezcla solvente - extracto. "
   ]
  },
  {
   "cell_type": "markdown",
   "metadata": {
    "slideshow": {
     "slide_type": "subslide"
    }
   },
   "source": [
    "<div align=\"justify\">\n",
    "    Un esquema detallado del proceso de extracción se puede apreciar en la Figura 2.\n",
    "</div>\n",
    "\n",
    "<div align=\"center\">\n",
    "    <img src=\"Images/Productividad/Esquema.PNG\" style=\"width: 800px;\" />\n",
    "</div>\n",
    "<div align=\"center\">\n",
    "    <i>Figura 2.</i> Esquema productivo de la planta de extracción.\n",
    "</div>"
   ]
  },
  {
   "cell_type": "markdown",
   "metadata": {
    "slideshow": {
     "slide_type": "slide"
    }
   },
   "source": [
    "## __2. Especificaciones y Requerimientos__\n",
    "\n",
    "<div align =\"justify\">\n",
    "    El sistema de preprocesamiento consiste de un <i>Sistema de trituración</i> y de un <i>Sistema de transmisión de potencia</i>.\n",
    "</div>\n",
    "\n",
    "### 2.1. Requerimientos\n",
    "\n",
    "<div align=\"justify\">\n",
    "    Con base a las pruebas experimentales desarrolladas y a las especifaciones técnicas dadas, el subsistema debe cumplir con las siguientes condiciones:\n",
    "</div>\n",
    "\n",
    "* Capacidad de procesamiento de $20 \\left[kg/lote \\right]$.\n",
    "* Relación másica entre el material vegetal y el agente dispersante es de 1 a 8, respectivamente.\n",
    "* La transmisión debe ser por correas y trenes de engranajes.\n",
    "* Material vegetal con 16% de humedad.\n",
    "* Tamaño de partícula medio de entrada: $850 \\left[ \\mu m \\right]$.\n",
    "* Tamaño final objetivo: $250 \\left[ \\mu m\\right]$."
   ]
  },
  {
   "cell_type": "markdown",
   "metadata": {
    "slideshow": {
     "slide_type": "subslide"
    }
   },
   "source": [
    "### 2.2. Especificaciones\n",
    "\n",
    "<div align=\"justify\">\n",
    "     El molino de bolas a diseñar se rige bajo los siguientes criterios:\n",
    "</div>\n",
    "\n",
    "* Relación longitud - diámetro de 1.5 a 3.\n",
    "* Agente dispersante: arena de río $\\left(\\rho _{AD} = 1500 \\left[kg/m^3 \\right] \\right)$.\n",
    "* El material de las bolas debe ser de aluminio, por tratarse de material orgánico $\\left(\\rho _{Al} = 2700 \\left[kg/m^3 \\right] \\right)$.\n",
    "* El volumen ocupado por la carga del molino (material vegetal y las bolas) esté entre el 40% y el 60% del volumen total del tambor.\n",
    "* El volumen ocupado por las bolas debe estar entre el 10% y el 30% del volumen total del molino.\n",
    "* La velocidad rotacional de operación debe ser el 80% de la velocidad de rotación crítica.\n",
    "* La densidad de las hojas secas de _Lippia origanoides_ es de $100 \\left[kg / m^3 \\right]$. \n",
    "* Factores de seguridad entre 2 y 4."
   ]
  },
  {
   "cell_type": "markdown",
   "metadata": {
    "slideshow": {
     "slide_type": "slide"
    }
   },
   "source": [
    "## __3. Diseño Funcional__\n",
    "\n",
    "<div align=\"justify\">\n",
    "    El diseño funcional del sistema busca definir:\n",
    "</div>\n",
    "\n",
    "* Potencia de funcionamiento.\n",
    "* Diámetro del tambor.\n",
    "* Longitud del tambor.\n",
    "* Velocidad de rotación.\n",
    "* Número de bolas."
   ]
  },
  {
   "cell_type": "markdown",
   "metadata": {
    "slideshow": {
     "slide_type": "subslide"
    }
   },
   "source": [
    "### 3.1. Datos\n",
    "\n",
    "<div align=\"justify\">\n",
    "    Los datos utilizados para el <strong>diseño</strong> son:\n",
    "</div>"
   ]
  },
  {
   "cell_type": "code",
   "execution_count": 1,
   "metadata": {},
   "outputs": [
    {
     "data": {
      "application/vnd.jupyter.widget-view+json": {
       "model_id": "5786ca14a5f845939b08e618b99322db",
       "version_major": 2,
       "version_minor": 0
      },
      "text/plain": [
       "Tab(children=(Accordion(children=(FloatText(value=20.0), FloatText(value=8.0), FloatText(value=8.0), FloatText…"
      ]
     },
     "metadata": {},
     "output_type": "display_data"
    }
   ],
   "source": [
    "from App.Data import ReqEs\n",
    "data = ReqEs.Datos()\n",
    "data"
   ]
  },
  {
   "cell_type": "markdown",
   "metadata": {},
   "source": [
    "NOTA: el cambio de estos valores permitirá plantear un nuevo diseño escalable, principalmente al modificar la <u><i>capacidad</i></u> de la planta."
   ]
  },
  {
   "cell_type": "markdown",
   "metadata": {
    "slideshow": {
     "slide_type": "subslide"
    }
   },
   "source": [
    "### 3.2. Volumen del tambor $\\rightarrow$ Diámetro y Longitud\n",
    "\n",
    "<div align=\"justify\">\n",
    "    El volumen del tambor (ver Figura 3) es directamente proporcional a la suma de los volúmenes ocupados por la arena de río (agente dispersante), el material vegetal y las bolas, e inversamente proporcional al porcentaja de volumen ocupado por <i>todo</i> el material. \n",
    "    <div align=\"center\">\n",
    "        <img src=\"Images/Preprocesamiento/volumen.PNG\" style=\"width: 500px;\" />\n",
    "    </div>\n",
    "    <div align=\"center\">\n",
    "        <i>Figura 3.</i> Relación masa - volumen.\n",
    "    </div>\n",
    "</div>"
   ]
  },
  {
   "cell_type": "markdown",
   "metadata": {
    "slideshow": {
     "slide_type": "subslide"
    }
   },
   "source": [
    "<div align=\"justify\">\n",
    "    Para garantizar una trituración eficiente y efectiva (mayor energía de impacto), se sugiere el diseño con un volumen ocupado por la carga de hasta el $40\\%$.\n",
    "    $$\n",
    "    \\begin{equation}\n",
    "        V = \\frac{V_{AD} + V_{mv} + V_{Tb}}{P}\n",
    "        \\tag{1}\n",
    "        \\label{VT}\n",
    "    \\end{equation}\n",
    "    $$\n",
    "    De la Ecuación \\ref{VT}, $V$ es el volumen total del tambor, $V_{AD}$ es el volumen ocupado por el agente dispersante, $V_{mv}$ es el volumen ocupado por el material vegetal, $V_{Tb}$ correponde al volumen del total de las bolas y $P$ al porcentaje del volumen total ocupado por la carga.\n",
    "</div>"
   ]
  },
  {
   "cell_type": "code",
   "execution_count": 2,
   "metadata": {},
   "outputs": [
    {
     "data": {
      "text/html": [
       "El <strong>volumen total</strong> del tambor es de $1022.22 [L]$"
      ],
      "text/plain": [
       "<IPython.core.display.HTML object>"
      ]
     },
     "metadata": {},
     "output_type": "display_data"
    },
    {
     "data": {
      "text/html": [
       "<div>\n",
       "<style scoped>\n",
       "    .dataframe tbody tr th:only-of-type {\n",
       "        vertical-align: middle;\n",
       "    }\n",
       "\n",
       "    .dataframe tbody tr th {\n",
       "        vertical-align: top;\n",
       "    }\n",
       "\n",
       "    .dataframe thead th {\n",
       "        text-align: right;\n",
       "    }\n",
       "</style>\n",
       "<table border=\"1\" class=\"dataframe\">\n",
       "  <thead>\n",
       "    <tr style=\"text-align: right;\">\n",
       "      <th></th>\n",
       "      <th>Tipo</th>\n",
       "      <th>Valor $[L]$</th>\n",
       "    </tr>\n",
       "  </thead>\n",
       "  <tbody>\n",
       "    <tr>\n",
       "      <th>0</th>\n",
       "      <td>$V_{AD}$</td>\n",
       "      <td>106.67</td>\n",
       "    </tr>\n",
       "    <tr>\n",
       "      <th>1</th>\n",
       "      <td>$V_{MV}$</td>\n",
       "      <td>200.00</td>\n",
       "    </tr>\n",
       "    <tr>\n",
       "      <th>2</th>\n",
       "      <td>$V_{Tb}$</td>\n",
       "      <td>102.22</td>\n",
       "    </tr>\n",
       "    <tr>\n",
       "      <th>3</th>\n",
       "      <td>$V_{T}$</td>\n",
       "      <td>1022.22</td>\n",
       "    </tr>\n",
       "  </tbody>\n",
       "</table>\n",
       "</div>"
      ],
      "text/plain": [
       "       Tipo  Valor $[L]$\n",
       "0  $V_{AD}$       106.67\n",
       "1  $V_{MV}$       200.00\n",
       "2  $V_{Tb}$       102.22\n",
       "3   $V_{T}$      1022.22"
      ]
     },
     "execution_count": 2,
     "metadata": {},
     "output_type": "execute_result"
    }
   ],
   "source": [
    "from IPython.display import HTML, display\n",
    "import pandas as pd\n",
    "from App.Data.Read import Read\n",
    "from App.Preprocesamiento.Funcional.Dimensiones import *\n",
    "datos = Read(data)\n",
    "res = {'Vol':{}}\n",
    "res['Vol'], vol = Volumenes(Read(data))()\n",
    "\n",
    "volumenes = pd.DataFrame(vol)\n",
    "display(HTML(\"El <strong>volumen total</strong> del tambor es de $\" + \n",
    "             str(vol['Valor $[L]$'][3]) + \" [L]$\"))\n",
    "volumenes"
   ]
  },
  {
   "cell_type": "markdown",
   "metadata": {
    "slideshow": {
     "slide_type": "subslide"
    }
   },
   "source": [
    "<div align=\"justify\">\n",
    "    Conociendo el volumen del tambor, se puede proceder a calcular el diámetro y longitud del mismo de la siguiente manera:\n",
    "    $$\n",
    "    \\begin{equation}\n",
    "        V = \\frac{\\pi}{4} D^2 L\n",
    "        \\tag{2}\n",
    "        \\label{volCil}\n",
    "    \\end{equation}\n",
    "    $$\n",
    "</div>"
   ]
  },
  {
   "cell_type": "code",
   "execution_count": 3,
   "metadata": {},
   "outputs": [
    {
     "data": {
      "text/html": [
       "El diámetro $D$ es de: $0.95 [m]$ y la longitud del tambor $L$ es de: $1.43 [m]$"
      ],
      "text/plain": [
       "<IPython.core.display.HTML object>"
      ]
     },
     "metadata": {},
     "output_type": "display_data"
    }
   ],
   "source": [
    "res['D'], res['L'] = dim(res['Vol']['V'], datos['Esp']['Relación Longitud - Diámetro'])\n",
    "display(HTML(\"El diámetro $D$ es de: $\" + str(round(res['D'],2)) + \n",
    "             \" [m]$ y la longitud del tambor $L$ es de: $\" + str(round(res['L'],2)) + \" [m]$\"))"
   ]
  },
  {
   "cell_type": "markdown",
   "metadata": {
    "slideshow": {
     "slide_type": "subslide"
    }
   },
   "source": [
    "### 3.3. Velocidad de rotación del molino\n",
    "\n",
    "<div align=\"justify\">\n",
    "    El análisis para determinar la velocidad de rotación óptima se basa en principio de que la velocidad de rotación mínima deba hacer que las bolas se mantengan adheridas a la superficie del molino. \n",
    "</div>\n",
    "\n",
    "<div align=\"center\">\n",
    "        <img src=\"Images/Preprocesamiento/DBola.PNG\" style=\"width: 400px;\" />\n",
    "</div>\n",
    "<div align=\"center\">\n",
    "    <i>Figura 4.</i> Dinámica de una bola.\n",
    "</div>"
   ]
  },
  {
   "cell_type": "markdown",
   "metadata": {
    "slideshow": {
     "slide_type": "subslide"
    }
   },
   "source": [
    "<div align=\"justify\">\n",
    "    Realizando sumatoria de fuerzas en la dirección radial, se obtiene:\n",
    "    $$\n",
    "    \\begin{equation}\n",
    "        \\sum F_r = 0 = C - W cos \\, \\alpha \\\\\n",
    "        \\rightarrow \\boxed{C = W cos \\, \\alpha}\n",
    "        \\tag{3}\n",
    "        \\label{Fr}\n",
    "    \\end{equation}\n",
    "    $$\n",
    "    La dinámica de una bola está definida por:\n",
    "    $$\n",
    "    \\begin{equation}\n",
    "        \\vec{C} = m \\vec{a_p} \n",
    "        \\tag{4}\n",
    "        \\label{dinB}\n",
    "    \\end{equation}\n",
    "    $$\n",
    "    Dónde: $m$ corresponde a la masa de la bola y $\\vec{a_p}$ al vector aceleración. La aceleración absoluta es equivalente a la suma de tres aceleraciones: aceleración rotacional, aceleración relativa y la aceleración de Coriolis.\n",
    "</div>"
   ]
  },
  {
   "cell_type": "markdown",
   "metadata": {
    "slideshow": {
     "slide_type": "subslide"
    }
   },
   "source": [
    "<div align=\"justify\">\n",
    "    $$\n",
    "    \\begin{equation}\n",
    "        \\vec{a_p} = \\dot{\\vec{V_p}} = \\dot{\\vec{\\omega}} \\times \\vec{r} + \\vec{\\omega} \\times \\left(\\vec{\\omega} \\times \\vec{r} \\right) + 2 \\vec{\\omega} \\times \\left(\\dot{\\vec{r}} \\right) _{rotacional} + \\left(\\dot{\\vec{r}} \\right) _{fijo}\n",
    "        \\tag{5}\n",
    "        \\label{apG}\n",
    "    \\end{equation}\n",
    "    $$\n",
    "    La velocidad de rotación del molino es constante, lo que implica que la aceleración de la partícula se comporte bajo la siguiente relación matemática:\n",
    "    $$\n",
    "    \\begin{equation}\n",
    "        \\vec{a_p} = \\vec{\\omega} \\times \\left(\\vec{\\omega} \\times \\vec{r} \\right)\n",
    "        \\tag{6}\n",
    "        \\label{ap}\n",
    "    \\end{equation}\n",
    "    $$\n",
    "    Relacionando las Ecuaciones \\ref{Fr}, \\ref{dinB} y \\ref{ap}, se tiene:\n",
    "    $$\n",
    "    \\begin{equation}\n",
    "        C = W cos \\, \\alpha = m \\left(\\omega ^2 r \\right) = \\left(\\frac{W}{g} \\right) \\left[ \\left(\\frac{V}{r} \\right) ^2 r \\right]  \\rightarrow \\\\\n",
    "        W cos \\, \\alpha = \\frac{W \\left(2\\pi r N(\\alpha) \\right)^2}{rg} \\rightarrow \\boxed{N(\\alpha) = \\sqrt{\\frac{g cos \\, \\alpha}{4 \\pi ^2 r}}}\n",
    "        \\tag{7}\n",
    "        \\label{Nalpha}\n",
    "    \\end{equation}\n",
    "    $$\n",
    "    En la Ecuación \\ref{Nalpha}, se puede detallar que el valor máximo al que debe girar el molino de bolas se encuentra cuando $\\alpha = 0$.\n",
    "    $$\n",
    "    \\begin{equation}\n",
    "        N_{max} = \\sqrt{\\frac{g}{4 \\pi ^2 r}}\n",
    "        \\tag{8}\n",
    "        \\label{N}\n",
    "    \\end{equation}\n",
    "    $$\n",
    "</div>"
   ]
  },
  {
   "cell_type": "code",
   "execution_count": 4,
   "metadata": {
    "slideshow": {
     "slide_type": "subslide"
    }
   },
   "outputs": [
    {
     "data": {
      "text/html": [
       "La velocidad de rotación crítica $N_{máx}$ es de $0.722 [rev/s] \\rightarrow43.311 [rpm]$. Aplicando el criterio de velocidad operativa ($ 80.0 \\% $ de la velocidad crítica) se tiene que la velocidad de rotación del tambor $N$ debe ser de $34.65 [rpm]$."
      ],
      "text/plain": [
       "<IPython.core.display.HTML object>"
      ]
     },
     "metadata": {},
     "output_type": "display_data"
    }
   ],
   "source": [
    "import math\n",
    "general = {'g':{'valor':9.81, 'units':'m/s2'}}\n",
    "N_max = (general['g']['valor']/(4*math.pi**2*(res['D']/2)))**(1/2)\n",
    "res['N'] = N_max*(datos['Esp']\\\n",
    "                  ['Relación de velocidad operacional respecto a la crítica [%]']/100)*60\n",
    "display(HTML(\"La velocidad de rotación crítica $N_{máx}$ es de $\" + str(round(N_max,3)) +\n",
    "            \" [rev/s] \\\\rightarrow\" + str(round(N_max*60,3)) + \" [rpm]$. \"\n",
    "             \"Aplicando el criterio de velocidad operativa ($ \" +\n",
    "             str(datos['Esp']['Relación de velocidad operacional respecto a la crítica [%]']) +\n",
    "             \" \\% $ de la velocidad crítica)\" +\n",
    "            \" se tiene que la velocidad de rotación del tambor $N$ debe ser de $\" + \n",
    "             str(round(res['N'],2)) +\n",
    "            \" [rpm]$.\"))"
   ]
  },
  {
   "cell_type": "markdown",
   "metadata": {
    "slideshow": {
     "slide_type": "subslide"
    }
   },
   "source": [
    "### 3.5. Número de bolas\n",
    "\n",
    "<div align=\"justify\">\n",
    "    Stashenko <i>et al.</i>$^{[1]}$ estimaron que bolas de $2.5$, $4$ y $7 [cm]$ de diámetro presentaban una distribución de energía de impacto adecuada para el proceso de trituración requerido por el sistema de preprocesamiento. Para ello, se subdivide el volumen total de bolas $V_{Tb}$ en cada uno de los tres tipos de bola. El número de bolas por tipo se estima de la siguiente manera:\n",
    "    $$\n",
    "    \\begin{equation}\n",
    "        N_b = \\frac{V_{Tb}}{\\frac{4}{3}\\pi \\left(\\frac{D_b}{2} \\right) ^2}\n",
    "        \\tag{9}\n",
    "        \\label{Nb}\n",
    "    \\end{equation}\n",
    "    $$\n",
    "</div>"
   ]
  },
  {
   "cell_type": "code",
   "execution_count": 5,
   "metadata": {
    "slideshow": {
     "slide_type": "subslide"
    }
   },
   "outputs": [
    {
     "data": {
      "text/html": [
       "Número de bolas:"
      ],
      "text/plain": [
       "<IPython.core.display.HTML object>"
      ]
     },
     "metadata": {},
     "output_type": "display_data"
    },
    {
     "data": {
      "text/markdown": [
       "* $2.5[cm]$: 52"
      ],
      "text/plain": [
       "<IPython.core.display.Markdown object>"
      ]
     },
     "metadata": {},
     "output_type": "display_data"
    },
    {
     "data": {
      "text/markdown": [
       "* $4[cm]$: 20"
      ],
      "text/plain": [
       "<IPython.core.display.Markdown object>"
      ]
     },
     "metadata": {},
     "output_type": "display_data"
    },
    {
     "data": {
      "text/markdown": [
       "* $7[cm]$: 6"
      ],
      "text/plain": [
       "<IPython.core.display.Markdown object>"
      ]
     },
     "metadata": {},
     "output_type": "display_data"
    }
   ],
   "source": [
    "from math import floor\n",
    "from IPython.display import Markdown\n",
    "res['NBolas'] = {}\n",
    "V = (res['Vol']['V_Tb']/3,)\n",
    "display(HTML(\"Número de bolas:\"))\n",
    "for tipo in [2.5, 4, 7]:\n",
    "    Vb = (4/3)*math.pi*(tipo/(2*100))**2\n",
    "    res['NBolas'][str(tipo)] = {}\n",
    "    res['NBolas'][str(tipo)]['Cant'] = floor(V[0]/Vb)\n",
    "    res['NBolas'][str(tipo)]['masa'] = res['NBolas'][str(tipo)]['Cant']*\\\n",
    "        datos['Esp']['Densidad de las bolas [kg/m3]']*Vb\n",
    "    display(Markdown(\"* $\" + str(tipo) + \"[cm]$: \" + str(res['NBolas'][str(tipo)]['Cant'])))"
   ]
  },
  {
   "cell_type": "markdown",
   "metadata": {
    "slideshow": {
     "slide_type": "subslide"
    }
   },
   "source": [
    "### 3.6. Potencia teórica\n",
    "\n",
    "<div align=\"justify\">\n",
    "    Para el cálculo de la potencia mínima que garantice el funcionamiento del sistema de preprocesamiento, se desarrolla el análisis dinámico mostrado en la Figura 5.\n",
    "</div>\n",
    "\n",
    "<div align=\"center\">\n",
    "    <img src=\"Images/Preprocesamiento/CM.PNG\" style=\"width: 500px;\" />\n",
    "</div>\n",
    "<div align=\"center\">\n",
    "    <i>Figura 5.</i> Diagrama de cuerpo libre del molino.\n",
    "</div>"
   ]
  },
  {
   "cell_type": "markdown",
   "metadata": {
    "slideshow": {
     "slide_type": "subslide"
    }
   },
   "source": [
    "<div align=\"justify\">\n",
    "    Conociendo la velocidad de rotación, se puede calcular la potencia como:\n",
    "    $$\n",
    "    \\begin{equation}\n",
    "        Pot = T \\omega \\\\\n",
    "        T = F.S \\, W\\, d\\, sin\\left(\\alpha \\right) \n",
    "        \\tag{10}\n",
    "        \\label{pot}\n",
    "    \\end{equation}\n",
    "    $$\n",
    "    Dónde: $F.S$ es el factor de seguridad, $W$ es la carga del molino y $d$ es la distancia al centro de masa.\n",
    "</div>"
   ]
  },
  {
   "cell_type": "markdown",
   "metadata": {
    "slideshow": {
     "slide_type": "subslide"
    }
   },
   "source": [
    "#### 3.6.1. Distancia al centro de masa\n",
    "\n",
    "<div align=\"justify\">\n",
    "    La distancia al centro de masa, se evalúa de la siguiente forma:\n",
    "    $$\n",
    "    \\begin{equation}\n",
    "        d = \\sqrt{\\overline{x}^2 + \\overline{y}^2} \\\\\n",
    "        \\overline{x} A = \\int x \\, dA \\\\\n",
    "        \\overline{y} A = \\int y \\, dA\n",
    "        \\tag{11}\n",
    "        \\label{dcm}\n",
    "    \\end{equation}\n",
    "    $$\n",
    "    El área de una región circular se calcula como:\n",
    "    $$\n",
    "    \\begin{equation}\n",
    "        A = \\frac{1}{2} \\theta r^2\n",
    "        \\tag{12}\n",
    "    \\end{equation}\n",
    "    $$\n",
    "    El ángulo $\\alpha$ que permite tener la mayor energía de impacto es de $45°$. Para convertir la Ecuación \\ref{dcm} en coordenadas polares:\n",
    "    $$\n",
    "    \\begin{equation}\n",
    "        x = r cos \\, \\theta \\\\\n",
    "        y = r sin \\, \\theta \\\\\n",
    "        dA = r \\, dr \\, d\\theta\n",
    "    \\end{equation}\n",
    "    $$\n",
    "</div>"
   ]
  },
  {
   "cell_type": "code",
   "execution_count": 6,
   "metadata": {
    "slideshow": {
     "slide_type": "subslide"
    }
   },
   "outputs": [
    {
     "data": {
      "text/markdown": [
       "1. Área:"
      ],
      "text/plain": [
       "<IPython.core.display.Markdown object>"
      ]
     },
     "metadata": {},
     "output_type": "display_data"
    },
    {
     "data": {
      "text/latex": [
       "$\\displaystyle A = \\int\\limits_{1.25 \\pi}^{\\frac{\\pi}{4}}\\int\\limits_{- r}^{0} r\\, dr\\, d\\theta$"
      ],
      "text/plain": [
       "Eq(A, Integral(r, (r, -r, 0), (\\theta, 1.25*pi, pi/4)))"
      ]
     },
     "metadata": {},
     "output_type": "display_data"
    },
    {
     "data": {
      "text/latex": [
       "$\\displaystyle A = \\frac{\\pi r^{2}}{2}$"
      ],
      "text/plain": [
       "Eq(A, pi*r**2/2)"
      ]
     },
     "metadata": {},
     "output_type": "display_data"
    }
   ],
   "source": [
    "from sympy import *\n",
    "#Datos...\n",
    "r, theta = symbols('r, \\\\theta', real=True, positive=True)\n",
    "A, xbar, ybar,d = symbols(\"A, \\\\bar{x}, \\\\bar{y},d\")\n",
    "dA = r\n",
    "x = r*cos(theta)\n",
    "y = r*sin(theta)\n",
    "\n",
    "#Solución\n",
    "AA = integrate(dA, (r, 0, r), (theta,-pi/2,pi/2))\n",
    "xxbar = integrate(x*dA, (r, -r,0), (theta,(5/4)*pi,pi/4))/AA\n",
    "yybar = integrate(y*dA, (r, -r,0), (theta,(5/4)*pi,pi/4))/AA\n",
    "dd = sqrt(xxbar**2 + yybar**2)\n",
    "\n",
    "#Ecuaciones\n",
    "Area = Eq(A,Integral(dA, (r, -r, 0), (theta,(5/4)*pi,pi/4)))\n",
    "display(Markdown(\"1. Área:\"))\n",
    "display(Area)\n",
    "display(Eq(A, AA))"
   ]
  },
  {
   "cell_type": "code",
   "execution_count": 7,
   "metadata": {
    "slideshow": {
     "slide_type": "subslide"
    }
   },
   "outputs": [
    {
     "data": {
      "text/markdown": [
       "2. $\\bar{x}$:"
      ],
      "text/plain": [
       "<IPython.core.display.Markdown object>"
      ]
     },
     "metadata": {},
     "output_type": "display_data"
    },
    {
     "data": {
      "text/latex": [
       "$\\displaystyle \\bar{x} = \\frac{\\int\\limits_{1.25 \\pi}^{\\frac{\\pi}{4}}\\int\\limits_{- r}^{0} r^{2} \\cos{\\left(\\theta \\right)}\\, dr\\, d\\theta}{A}$"
      ],
      "text/plain": [
       "Eq(\\bar{x}, Integral(r**2*cos(\\theta), (r, -r, 0), (\\theta, 1.25*pi, pi/4))/A)"
      ]
     },
     "metadata": {},
     "output_type": "display_data"
    },
    {
     "data": {
      "text/latex": [
       "$\\displaystyle \\bar{x} = \\frac{2 \\sqrt{2} r}{3 \\pi}$"
      ],
      "text/plain": [
       "Eq(\\bar{x}, 2*sqrt(2)*r/(3*pi))"
      ]
     },
     "metadata": {},
     "output_type": "display_data"
    }
   ],
   "source": [
    "xx = Eq(xbar, (1/A)*Integral(x*dA, (r, -r,0), (theta,(5/4)*pi,pi/4)))\n",
    "display(Markdown(\"2. $\\\\bar{x}$:\"))\n",
    "display(xx)\n",
    "display(Eq(xbar, xxbar))"
   ]
  },
  {
   "cell_type": "code",
   "execution_count": 8,
   "metadata": {
    "slideshow": {
     "slide_type": "subslide"
    }
   },
   "outputs": [
    {
     "data": {
      "text/markdown": [
       "3. $\\bar{y}$:"
      ],
      "text/plain": [
       "<IPython.core.display.Markdown object>"
      ]
     },
     "metadata": {},
     "output_type": "display_data"
    },
    {
     "data": {
      "text/latex": [
       "$\\displaystyle \\bar{y} = \\frac{\\int\\limits_{1.25 \\pi}^{\\frac{\\pi}{4}}\\int\\limits_{- r}^{0} r^{2} \\sin{\\left(\\theta \\right)}\\, dr\\, d\\theta}{A}$"
      ],
      "text/plain": [
       "Eq(\\bar{y}, Integral(r**2*sin(\\theta), (r, -r, 0), (\\theta, 1.25*pi, pi/4))/A)"
      ]
     },
     "metadata": {},
     "output_type": "display_data"
    },
    {
     "data": {
      "text/latex": [
       "$\\displaystyle \\bar{y} = - \\frac{2 \\sqrt{2} r}{3 \\pi}$"
      ],
      "text/plain": [
       "Eq(\\bar{y}, -2*sqrt(2)*r/(3*pi))"
      ]
     },
     "metadata": {},
     "output_type": "display_data"
    },
    {
     "data": {
      "text/markdown": [
       "4. distancia:"
      ],
      "text/plain": [
       "<IPython.core.display.Markdown object>"
      ]
     },
     "metadata": {},
     "output_type": "display_data"
    },
    {
     "data": {
      "text/latex": [
       "$\\displaystyle d = \\sqrt{\\bar{x}^{2} + \\bar{y}^{2}}$"
      ],
      "text/plain": [
       "Eq(d, sqrt(\\bar{x}**2 + \\bar{y}**2))"
      ]
     },
     "metadata": {},
     "output_type": "display_data"
    },
    {
     "data": {
      "text/latex": [
       "$\\displaystyle d = \\frac{4 r}{3 \\pi}$"
      ],
      "text/plain": [
       "Eq(d, 4*r/(3*pi))"
      ]
     },
     "metadata": {},
     "output_type": "display_data"
    }
   ],
   "source": [
    "yy = Eq(ybar, (1/A)*Integral(y*dA, (r, -r,0), (theta,(5/4)*pi,pi/4)))\n",
    "display(Markdown(\"3. $\\\\bar{y}$:\"))\n",
    "display(yy)\n",
    "display(Eq(ybar, yybar))\n",
    "#Solución\n",
    "yybar = integrate(y*dA, (r, -r,0), (theta,(5/4)*pi,pi/4))/AA\n",
    "dd = sqrt(xxbar**2 + yybar**2)\n",
    "display(Markdown(\"4. distancia:\"))\n",
    "display(Eq(d, sqrt(xbar**2 + ybar**2)))\n",
    "display(Eq(d, dd))"
   ]
  },
  {
   "cell_type": "markdown",
   "metadata": {
    "slideshow": {
     "slide_type": "subslide"
    }
   },
   "source": [
    "#### 3.6.2. Cálculo de la potencia"
   ]
  },
  {
   "cell_type": "code",
   "execution_count": 9,
   "metadata": {},
   "outputs": [
    {
     "data": {
      "text/html": [
       "La <strong>potencia teórica</strong> es de $ 6.09 [hp]$"
      ],
      "text/plain": [
       "<IPython.core.display.HTML object>"
      ]
     },
     "metadata": {},
     "output_type": "display_data"
    }
   ],
   "source": [
    "d = dd.subs({r:res['D']/2}).evalf()\n",
    "W = datos['Req']['Capacidad [kg/bache]']*(1+datos['Req']['Relación másica AD - MV'])\n",
    "for key in res['NBolas']:\n",
    "    W += res['NBolas'][key]['masa']\n",
    "W = W*9.81\n",
    "T = datos['Esp']['Factor de seguridad']*W*d*math.sin(math.radians(45))\n",
    "w = res['N']*(2*math.pi/60)\n",
    "res['Pot'] = T*w*(1.34102/1000)\n",
    "display(HTML(\"La <strong>potencia teórica</strong> es de $ \" + str(round(res['Pot'],2)) + \" [hp]$\"))"
   ]
  },
  {
   "cell_type": "code",
   "execution_count": null,
   "metadata": {},
   "outputs": [],
   "source": [
    "W"
   ]
  },
  {
   "cell_type": "markdown",
   "metadata": {
    "slideshow": {
     "slide_type": "subslide"
    }
   },
   "source": [
    "### 3.7. Resumen de resultados\n",
    "\n",
    "<div align=\"justify\">\n",
    "    Los resultados obtenidos se pueden apreciar a continuación:\n",
    "</div>"
   ]
  },
  {
   "cell_type": "code",
   "execution_count": 10,
   "metadata": {},
   "outputs": [
    {
     "data": {
      "text/html": [
       "<div>\n",
       "<style scoped>\n",
       "    .dataframe tbody tr th:only-of-type {\n",
       "        vertical-align: middle;\n",
       "    }\n",
       "\n",
       "    .dataframe tbody tr th {\n",
       "        vertical-align: top;\n",
       "    }\n",
       "\n",
       "    .dataframe thead th {\n",
       "        text-align: right;\n",
       "    }\n",
       "</style>\n",
       "<table border=\"1\" class=\"dataframe\">\n",
       "  <thead>\n",
       "    <tr style=\"text-align: right;\">\n",
       "      <th></th>\n",
       "      <th>Resultados</th>\n",
       "    </tr>\n",
       "  </thead>\n",
       "  <tbody>\n",
       "    <tr>\n",
       "      <th>Diámetro [m]</th>\n",
       "      <td>0.954</td>\n",
       "    </tr>\n",
       "    <tr>\n",
       "      <th>Longitud [m]</th>\n",
       "      <td>1.431</td>\n",
       "    </tr>\n",
       "    <tr>\n",
       "      <th>Potencia [hp]</th>\n",
       "      <td>6.087</td>\n",
       "    </tr>\n",
       "    <tr>\n",
       "      <th>Velocidad de rotación [rpm]</th>\n",
       "      <td>34.648</td>\n",
       "    </tr>\n",
       "    <tr>\n",
       "      <th>Volumen [m3]</th>\n",
       "      <td>1.022</td>\n",
       "    </tr>\n",
       "  </tbody>\n",
       "</table>\n",
       "</div>"
      ],
      "text/plain": [
       "                             Resultados\n",
       "Diámetro [m]                      0.954\n",
       "Longitud [m]                      1.431\n",
       "Potencia [hp]                     6.087\n",
       "Velocidad de rotación [rpm]      34.648\n",
       "Volumen [m3]                      1.022"
      ]
     },
     "execution_count": 10,
     "metadata": {},
     "output_type": "execute_result"
    }
   ],
   "source": [
    "from App.Preprocesamiento.Funcional.Resultados import *\n",
    "result = Ress(res)\n",
    "pd.DataFrame(result)"
   ]
  }
 ],
 "metadata": {
  "kernelspec": {
   "display_name": "Python 3",
   "language": "python",
   "name": "python3"
  },
  "language_info": {
   "codemirror_mode": {
    "name": "ipython",
    "version": 3
   },
   "file_extension": ".py",
   "mimetype": "text/x-python",
   "name": "python",
   "nbconvert_exporter": "python",
   "pygments_lexer": "ipython3",
   "version": "3.7.4"
  }
 },
 "nbformat": 4,
 "nbformat_minor": 4
}
