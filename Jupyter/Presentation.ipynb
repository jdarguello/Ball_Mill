{
 "cells": [
  {
   "cell_type": "markdown",
   "metadata": {
    "slideshow": {
     "slide_type": "slide"
    }
   },
   "source": [
    "---\n",
    "<div align=\"justify\">\n",
    "    <h1><strong>An automation approach of the mechanical design and manufacturing of ball mills</strong></h1>\n",
    "    <h2>Juan D. Argüello$^a$, Omar A. Gélvez$^b$, Jairo R. Martínez$^c$, Diego C. Durán$^c$, Elena E. Stashenko$^c$</h2>\n",
    "    <foot><i>$^a$Universidad Industrial de Santander, Escuela de Ingeniería Mecánica, Centro Nacional de Investigaciones para la Agroindustrialización de Especies Vegetales Aromáticas y Medicinales Tropicales - CENIVAM. Bucaramanga, Colombia.</i></foot>\n",
    "    <br>\n",
    "    <foot><i>$^b$Universidad Industrial de Santander, Escuela de Ingeniería Mecánica, Grupo de Investigación en Energía y Medio Ambiente - GIEMA. Bucaramanga, Colombia.</i></foot>\n",
    "    <br>\n",
    "    <foot><i>$^c$Universidad Industrial de Santander, Escuela de Química, Centro de Investigación en Biomoléculas - CIBIMOL y Centro Nacional de Investigaciones para la Agroindustrialización de Especies Vegetales Aromáticas y Medicinales Tropicales - CENIVAM. Bucaramanga, Colombia.</i></foot>\n",
    "</div>\n",
    "\n",
    "---"
   ]
  },
  {
   "cell_type": "markdown",
   "metadata": {},
   "source": [
    "<div align=\"center\">\n",
    "    <h2><strong>Abstract</strong></h2>\n",
    "    Engineering design is taking a new step forward with technological advances. <i>Open source</i> tools, such as Python, make it possible to develop calculation and validation algorithms to automate design procedures. Ball mills stands out as a solution for crushing processes, specially in the civil industry, which its design procedure requires the study of the cynematic of the balls and the dynamical interaction between them and the mill. Numerical simulations are usually used as a validation tool, but also as an optimization one. For this particular case, there were used two numerical methods: the <i>Discrete Element Method</i> (DEM), used to validate the cynematic theoretical study, optimize it and to predict the impact distribution energy over the mill; and the <i>Finite Element Method</i> (FEM), which was used to predict, and guarantee, an adecuate structural behaviour of the mill. The present work also create automatic engineering reports (both in TeX and PDF formats), CAD drawings of the designed ball mill (dxf format) and an automatic quantification of the required materials for manufacturing. All of the above can be summarized in three principal stages, or chapters: the first one is related to the theoretical study, the second one to the numerical simulations and the last one to the obtained results.\n",
    "</div>\n",
    "\n",
    "<br>\n",
    "\n",
    "_Keywords:_ ball mill, automation, mechanical design, FEM, DEM, FEniCS, Python.\n",
    "\n",
    "---"
   ]
  },
  {
   "cell_type": "markdown",
   "metadata": {
    "slideshow": {
     "slide_type": "slide"
    }
   },
   "source": [
    "## __1. Introduction__\n",
    "\n",
    "### _1.1. Background and Motivation_\n",
    "\n",
    "<div align=\"justify\">\n",
    "    In recent years, there have been reported several studies where automation has been used in engineering design. For the production of nuclear energy, it can be found different studies, such as: the design of reactor cores$^{[1]}$, from where Hyun Kim <i>et al</i> uses an artificial neural network to provide, and evaluate, new types of geometries; Nomen <i>et al</i> developed a numerical methodology to create the design of IFMIF LIPAc beam dump shielding$^{[2]}$, which provides an acelerator-based, D-Li neutron source to produce energy of high intensity by radiation; Kim J. <i>et al</i> created an autonomous operation system$^{[3]}$ with artificial intelligence which perform the control functions needed for the emergency operation of a nuclear power plant.\n",
    "    <br>\n",
    "    <br>\n",
    "    In civil engineering, there is a specialized journal known as \"Automation in Construction\", which has published different studies related to automatic structural and seismic designs. In mechanical design, it can be found articles related with automation in different industries, like automotive, fluid transport and robotics, to name a few. For example: Ouyang T. <i>et al</i> developed a dynamic modelling of a clutch actuator for heavy duty transmission$^{[4]}$ adopting an artificial bee colony (ABC) algorithm to optimize structural parameters; X. Telleria <i>et al</i> presented a methodology to automate the design, and numerical validation, of valves$^{[5]}$; M. Honarpardaz <i>et al</i> introduced the Generic Automated Finger Design$^{[6, 7]}$ (GAFD) method for design automation of customized fingers of industrial grippers for robots. \n",
    "    <br>\n",
    "    <br>\n",
    "   Most of these works are intended to study a particular stage of the design, either modelling, numerical method or simulation. The motivation of doing this work was to propose a design methodology, which groups all of this efforts, focusing in the required information for the manufacturing of the mill.\n",
    "</div>\n",
    "\n",
    "\n",
    "### _1.2. Future Updates_\n",
    "\n",
    "<div align=\"justify\">\n",
    "    Things can always be done better or differently. The main idea of this work was to prove a design methodology, but the possibility to do things \"simpler\" from the user perspective is still there. To achieve this, an artificial intelligence algorithm must be implemented. \n",
    "    <br>\n",
    "    <br>\n",
    "    Another future update should let advanced users to implement experimental grinding equations to predict time consuming.\n",
    "</div>"
   ]
  },
  {
   "cell_type": "markdown",
   "metadata": {},
   "source": [
    "## __2. Theoretical study__\n",
    "\n",
    "<div align=\"justify\">\n",
    "    The goal of this section is to find:\n",
    "</div>\n",
    "\n",
    "* Power.\n",
    "* Diameter of the mill.\n",
    "* Length of the mill.\n",
    "* Rotational speed.\n",
    "* Number of balls.\n",
    "\n",
    "### _2.1. Requirements and Specifications_\n",
    "\n",
    "<div align=\"justify\">\n",
    "    The <i>default</i> data can be apreciated next.\n",
    "</div>\n",
    "\n",
    "#### _2.1.1. Requirements_\n",
    "\n",
    "* Capacity of $20 \\left[kg/batch \\right]$.\n",
    "* Input particle size: $850 \\left[ \\mu m \\right]$.\n",
    "* Target particle size: $250 \\left[ \\mu m\\right]$.\n",
    "\n",
    "#### _2.1.2. Specifications_\n",
    "\n",
    "* Length - diameter relation of 1.5 to 3.\n",
    "* Ball material: Aluminum $\\left(\\rho _{Al} = 2700 \\left[kg/m^3 \\right] \\right)$.\n",
    "* Grinding material: Granite $\\left(\\rho _{g} = 2520 \\left[kg/m^3 \\right] \\right)$.\n",
    "* Occupied volume by the material between 40% and 60%.\n",
    "* Occupied volume by the balls between 10% and 30%.\n",
    "* Rotational speed should be the 80% of the critical velocity.\n",
    "* Safety factor between 2 and 4.\n"
   ]
  },
  {
   "cell_type": "code",
   "execution_count": 1,
   "metadata": {},
   "outputs": [
    {
     "data": {
      "application/vnd.jupyter.widget-view+json": {
       "model_id": "27fe0ae4f25c4644800c5d05d09436bb",
       "version_major": 2,
       "version_minor": 0
      },
      "text/plain": [
       "Tab(children=(Accordion(children=(FloatText(value=200.0), FloatText(value=850.0), FloatText(value=250.0)), _ti…"
      ]
     },
     "metadata": {},
     "output_type": "display_data"
    }
   ],
   "source": [
    "from App.Data import ReqEs\n",
    "data = ReqEs.Datos()\n",
    "data"
   ]
  },
  {
   "cell_type": "markdown",
   "metadata": {
    "slideshow": {
     "slide_type": "subslide"
    }
   },
   "source": [
    "### _2.2. Mill volume $\\rightarrow$ Diameter and Length_\n",
    "\n",
    "<div align=\"justify\">\n",
    "    The mill volume, shown on Figure 1, is directly proportional to the sum of the volumes occupied by the grinding material and the balls. It is indirectly proportional to the volume ratio of <i>all</i> of the material. \n",
    "    <div align=\"center\">\n",
    "        <img src=\"Images/Preprocesamiento/volumen.PNG\" style=\"width: 500px;\" />\n",
    "    </div>\n",
    "    <div align=\"center\">\n",
    "        <i>Figura 1.</i> Relation between mass and volume.\n",
    "    </div>\n",
    "</div>"
   ]
  },
  {
   "cell_type": "markdown",
   "metadata": {
    "slideshow": {
     "slide_type": "subslide"
    }
   },
   "source": [
    "<div align=\"justify\">\n",
    "    $$\n",
    "    \\begin{equation}\n",
    "        V = \\frac{V_{Gm} + V_{Tb}}{P}\n",
    "        \\tag{1}\n",
    "        \\label{VT}\n",
    "    \\end{equation}\n",
    "    $$\n",
    "    From Equation \\ref{VT}, $V$ is the volume of the mill, $V_{Gm}$ is the volume occupied by the grinding material, $V_{Tb}$ correspond to the total volume occupied by the balls and $P$ is the percentage of the mill volume occupied by the load.\n",
    "</div>"
   ]
  },
  {
   "cell_type": "code",
   "execution_count": 6,
   "metadata": {},
   "outputs": [
    {
     "data": {
      "text/html": [
       "The <strong>volume of the mill</strong> is $416.67 [L]$"
      ],
      "text/plain": [
       "<IPython.core.display.HTML object>"
      ]
     },
     "metadata": {},
     "output_type": "display_data"
    },
    {
     "data": {
      "text/html": [
       "<div>\n",
       "<style scoped>\n",
       "    .dataframe tbody tr th:only-of-type {\n",
       "        vertical-align: middle;\n",
       "    }\n",
       "\n",
       "    .dataframe tbody tr th {\n",
       "        vertical-align: top;\n",
       "    }\n",
       "\n",
       "    .dataframe thead th {\n",
       "        text-align: right;\n",
       "    }\n",
       "</style>\n",
       "<table border=\"1\" class=\"dataframe\">\n",
       "  <thead>\n",
       "    <tr style=\"text-align: right;\">\n",
       "      <th></th>\n",
       "      <th>Tipo</th>\n",
       "      <th>Valor $[L]$</th>\n",
       "    </tr>\n",
       "  </thead>\n",
       "  <tbody>\n",
       "    <tr>\n",
       "      <th>0</th>\n",
       "      <td>$V_{Gm}$</td>\n",
       "      <td>166.67</td>\n",
       "    </tr>\n",
       "    <tr>\n",
       "      <th>1</th>\n",
       "      <td>$V_{Tb}$</td>\n",
       "      <td>41.67</td>\n",
       "    </tr>\n",
       "    <tr>\n",
       "      <th>2</th>\n",
       "      <td>$V_{T}$</td>\n",
       "      <td>416.67</td>\n",
       "    </tr>\n",
       "  </tbody>\n",
       "</table>\n",
       "</div>"
      ],
      "text/plain": [
       "       Tipo  Valor $[L]$\n",
       "0  $V_{Gm}$       166.67\n",
       "1  $V_{Tb}$        41.67\n",
       "2   $V_{T}$       416.67"
      ]
     },
     "execution_count": 6,
     "metadata": {},
     "output_type": "execute_result"
    }
   ],
   "source": [
    "from IPython.display import HTML, display\n",
    "import pandas as pd\n",
    "from App.Data.Read import Read\n",
    "from App.Funcional.Dimensiones import *\n",
    "datos = Read(data)\n",
    "res = {'Vol':{}}\n",
    "res['Vol'], vol = Volumenes(Read(data))()\n",
    "\n",
    "volumenes = pd.DataFrame(vol)\n",
    "display(HTML(\"The <strong>volume of the mill</strong> is $\" + \n",
    "             str(vol['Valor $[L]$'][2]) + \" [L]$\"))\n",
    "volumenes"
   ]
  },
  {
   "cell_type": "markdown",
   "metadata": {
    "slideshow": {
     "slide_type": "subslide"
    }
   },
   "source": [
    "<div align=\"justify\">\n",
    "    Knowing the volume of the mill, the length and diameter can be calculated as follows:\n",
    "    $$\n",
    "    \\begin{equation}\n",
    "        V = \\frac{\\pi}{4} D^2 L\n",
    "        \\tag{2}\n",
    "        \\label{volCil}\n",
    "    \\end{equation}\n",
    "    $$\n",
    "</div>"
   ]
  },
  {
   "cell_type": "code",
   "execution_count": 9,
   "metadata": {},
   "outputs": [
    {
     "data": {
      "text/html": [
       "The diameter $D$ has a value of: $0.71 [m]$ and the length of the mill $L$ is: $1.06 [m]$"
      ],
      "text/plain": [
       "<IPython.core.display.HTML object>"
      ]
     },
     "metadata": {},
     "output_type": "display_data"
    }
   ],
   "source": [
    "res['D'], res['L'] = dim(res['Vol']['V'], datos['Esp']['Length - diameter relation'])\n",
    "display(HTML(\"The diameter $D$ has a value of: $\" + str(round(res['D'],2)) + \n",
    "             \" [m]$ and the length of the mill $L$ is: $\" + str(round(res['L'],2)) + \" [m]$\"))"
   ]
  },
  {
   "cell_type": "markdown",
   "metadata": {
    "slideshow": {
     "slide_type": "subslide"
    }
   },
   "source": [
    "### _2.3. Rotational speed of the mill_\n",
    "\n",
    "<div align=\"justify\">\n",
    "    The analysis to define the optimum rotational speed is based on the principle that the minimum rotational speed should made the balls adhered to the surface of the mill.\n",
    "</div>\n",
    "\n",
    "<div align=\"center\">\n",
    "        <img src=\"Images/Preprocesamiento/DBola.PNG\" style=\"width: 400px;\" />\n",
    "</div>\n",
    "<div align=\"center\">\n",
    "    <i>Figura 2.</i> Dynamic of a ball.\n",
    "</div>"
   ]
  },
  {
   "cell_type": "markdown",
   "metadata": {
    "slideshow": {
     "slide_type": "subslide"
    }
   },
   "source": [
    "<div align=\"justify\">\n",
    "    Sum of forces in the radial direction gives:\n",
    "    $$\n",
    "    \\begin{equation}\n",
    "        \\sum F_r = 0 = C - W cos \\, \\alpha \\\\\n",
    "        \\rightarrow \\boxed{C = W cos \\, \\alpha}\n",
    "        \\tag{3}\n",
    "        \\label{Fr}\n",
    "    \\end{equation}\n",
    "    $$\n",
    "    The dynamic of the ball is defined by:\n",
    "    $$\n",
    "    \\begin{equation}\n",
    "        \\vec{C} = m \\vec{a_p} \n",
    "        \\tag{4}\n",
    "        \\label{dinB}\n",
    "    \\end{equation}\n",
    "    $$\n",
    "    Where: $m$ is the mass of the ball and $\\vec{a_p}$ is the acceleration vector. The absolute acceleration is equivalent to the sum of three accelerations: rotational acceleration, relative acceleration and the Coriolis acceleration.\n",
    "</div>\n",
    "\n",
    "<div align=\"justify\">\n",
    "    $$\n",
    "    \\begin{equation}\n",
    "        \\vec{a_p} = \\dot{\\vec{V_p}} = \\dot{\\vec{\\omega}} \\times \\vec{r} + \\vec{\\omega} \\times \\left(\\vec{\\omega} \\times \\vec{r} \\right) + 2 \\vec{\\omega} \\times \\left(\\dot{\\vec{r}} \\right) _{rot} + \\left(\\ddot{\\vec{r}} \\right) _{f}\n",
    "        \\tag{5}\n",
    "        \\label{apG}\n",
    "    \\end{equation}\n",
    "    $$\n",
    "    The rotational speed of the mill is constant, which implies that the acceleration of the particle behaves as shown on Equation \\ref{ap}.\n",
    "    $$\n",
    "    \\begin{equation}\n",
    "        \\vec{a_p} = \\vec{\\omega} \\times \\left(\\vec{\\omega} \\times \\vec{r} \\right)\n",
    "        \\tag{6}\n",
    "        \\label{ap}\n",
    "    \\end{equation}\n",
    "    $$\n",
    "    Relating Equations \\ref{Fr}, \\ref{dinB} and \\ref{ap}:\n",
    "    $$\n",
    "    \\begin{equation}\n",
    "        C = W cos \\, \\alpha = m \\left(\\omega ^2 r \\right) = \\left(\\frac{W}{g} \\right) \\left[ \\left(\\frac{V}{r} \\right) ^2 r \\right]  \\rightarrow \\\\\n",
    "        W cos \\, \\alpha = \\frac{W \\left(2\\pi r N(\\alpha) \\right)^2}{rg} \\rightarrow \\boxed{N(\\alpha) = \\sqrt{\\frac{g cos \\, \\alpha}{4 \\pi ^2 r}}}\n",
    "        \\tag{7}\n",
    "        \\label{Nalpha}\n",
    "    \\end{equation}\n",
    "    $$\n",
    "    Comparing Equation \\ref{Nalpha} with Figure 2, it can be seen that the maximum value of the velocity that the mill should rotate is reached when $\\alpha = 0$.\n",
    "    $$\n",
    "    \\begin{equation}\n",
    "        N_{max} = \\sqrt{\\frac{g}{4 \\pi ^2 r}}\n",
    "        \\tag{8}\n",
    "        \\label{N}\n",
    "    \\end{equation}\n",
    "    $$\n",
    "</div>"
   ]
  },
  {
   "cell_type": "code",
   "execution_count": 13,
   "metadata": {
    "slideshow": {
     "slide_type": "subslide"
    }
   },
   "outputs": [
    {
     "data": {
      "text/html": [
       "The critical rotational speed $N_{máx}$ is of $0.838 [rev/s] \\rightarrow50.298 [rpm]$. Applying the <i>rotational speed criteria</i> ($ 80.0 \\% $ of the maximum speed) the rotational speed $N$ of the mill is: $40.24 [rpm]$."
      ],
      "text/plain": [
       "<IPython.core.display.HTML object>"
      ]
     },
     "metadata": {},
     "output_type": "display_data"
    }
   ],
   "source": [
    "import math\n",
    "general = {'g':{'valor':9.81, 'units':'m/s2'}}\n",
    "N_max = (general['g']['valor']/(4*math.pi**2*(res['D']/2)))**(1/2)\n",
    "res['N'] = N_max*(datos['Esp']\\\n",
    "                  ['Rotational speed criteria [%]']/100)*60\n",
    "display(HTML(\"The critical rotational speed $N_{máx}$ is of $\" + str(round(N_max,3)) +\n",
    "            \" [rev/s] \\\\rightarrow\" + str(round(N_max*60,3)) + \" [rpm]$. \"\n",
    "             \"Applying the <i>rotational speed criteria</i> ($ \" +\n",
    "             str(datos['Esp']['Rotational speed criteria [%]']) +\n",
    "             \" \\% $ of the maximum speed)\" +\n",
    "            \" the rotational speed $N$ of the mill is: $\" + \n",
    "             str(round(res['N'],2)) +\n",
    "            \" [rpm]$.\"))"
   ]
  },
  {
   "cell_type": "markdown",
   "metadata": {
    "slideshow": {
     "slide_type": "subslide"
    }
   },
   "source": [
    "### _2.4. Number of balls_\n",
    "\n",
    "<div align=\"justify\">\n",
    "    The user can specify the diameter of the balls, and how many types there shloud be. The number of balls is calculated by the Equation \\ref{Nb}. It has, by default, two types of balls: $2 [cm]$ and $4 [cm]$.\n",
    "    $$\n",
    "    \\begin{equation}\n",
    "        N_b = \\frac{V_{Tb}}{\\frac{4}{3}\\pi \\left(\\frac{D_b}{2} \\right) ^2}\n",
    "        \\tag{9}\n",
    "        \\label{Nb}\n",
    "    \\end{equation}\n",
    "    $$\n",
    "</div>"
   ]
  },
  {
   "cell_type": "code",
   "execution_count": 63,
   "metadata": {},
   "outputs": [
    {
     "data": {
      "application/vnd.jupyter.widget-view+json": {
       "model_id": "e1ca3119feb545b58633143eb06dda60",
       "version_major": 2,
       "version_minor": 0
      },
      "text/plain": [
       "interactive(children=(IntText(value=2, description='NumTypes'), Checkbox(value=True, description='default'), O…"
      ]
     },
     "metadata": {},
     "output_type": "display_data"
    }
   ],
   "source": [
    "from ipywidgets import *\n",
    "\n",
    "def BallTypes(NumTypes, default=True):\n",
    "    child = []\n",
    "    if default:\n",
    "        vals = [2,4]\n",
    "        for i in range(2):\n",
    "            child.append(FloatText(value=vals[i]))\n",
    "    else:\n",
    "        for i in range(NumTypes):\n",
    "            child.append(FloatText(value=2))\n",
    "    Ac = Accordion(children=child)\n",
    "    for i in range(len(child)):\n",
    "        Ac.set_title(i, 'Ball ' + str(i+1) + ' [cm]')\n",
    "    display(Ac)\n",
    "    return Ac, NumTypes\n",
    "            \n",
    "BT = interactive(BallTypes,\n",
    "                 default=True,\n",
    "                 NumTypes = IntText(value=2))\n",
    "display(BT)"
   ]
  },
  {
   "cell_type": "code",
   "execution_count": 78,
   "metadata": {
    "slideshow": {
     "slide_type": "subslide"
    }
   },
   "outputs": [
    {
     "data": {
      "application/vnd.jupyter.widget-view+json": {
       "model_id": "2fab5ac5cb4d46bfbc1cc9bd692ba87a",
       "version_major": 2,
       "version_minor": 0
      },
      "text/plain": [
       "HTML(value='Number of balls per type:')"
      ]
     },
     "metadata": {},
     "output_type": "display_data"
    },
    {
     "data": {
      "text/markdown": [
       "* $2.0[cm]$: 49"
      ],
      "text/plain": [
       "<IPython.core.display.Markdown object>"
      ]
     },
     "metadata": {},
     "output_type": "display_data"
    },
    {
     "data": {
      "text/markdown": [
       "* $4.0[cm]$: 12"
      ],
      "text/plain": [
       "<IPython.core.display.Markdown object>"
      ]
     },
     "metadata": {},
     "output_type": "display_data"
    }
   ],
   "source": [
    "from math import floor\n",
    "from IPython.display import Markdown\n",
    "TB = {}\n",
    "for i in range(len(BT.result[0].children)):\n",
    "    TB[BT.result[0].children[i].value] = 0\n",
    "suma = 0\n",
    "for tipo in TB:\n",
    "    suma += 1\n",
    "V = (res['Vol']['V_Tb']/suma,)\n",
    "display(HTML(\"Number of balls per type:\"))\n",
    "for tipo in TB:\n",
    "    Vb = (4/3)*math.pi*(tipo/(2*100))**2\n",
    "    res['NBolas'][str(tipo)] = {}\n",
    "    res['NBolas'][str(tipo)]['Cant'] = floor(V[0]/Vb)\n",
    "    res['NBolas'][str(tipo)]['masa'] = res['NBolas'][str(tipo)]['Cant']*\\\n",
    "        datos['Esp']['Density of balls [kg/m3]']*Vb\n",
    "    display(Markdown(\"* $\" + str(tipo) + \"[cm]$: \" + str(res['NBolas'][str(tipo)]['Cant'])))"
   ]
  },
  {
   "cell_type": "markdown",
   "metadata": {
    "slideshow": {
     "slide_type": "subslide"
    }
   },
   "source": [
    "### _2.5. Power_\n",
    "\n",
    "<div align=\"justify\">\n",
    "    Para el cálculo de la potencia mínima que garantice el funcionamiento del sistema de preprocesamiento, se desarrolla el análisis dinámico mostrado en la Figura 5.\n",
    "</div>\n",
    "\n",
    "<div align=\"center\">\n",
    "    <img src=\"Images/Preprocesamiento/CM.PNG\" style=\"width: 500px;\" />\n",
    "</div>\n",
    "<div align=\"center\">\n",
    "    <i>Figura 5.</i> Diagrama de cuerpo libre del molino.\n",
    "</div>"
   ]
  },
  {
   "cell_type": "markdown",
   "metadata": {
    "slideshow": {
     "slide_type": "subslide"
    }
   },
   "source": [
    "<div align=\"justify\">\n",
    "    Conociendo la velocidad de rotación, se puede calcular la potencia como:\n",
    "    $$\n",
    "    \\begin{equation}\n",
    "        Pot = T \\omega \\\\\n",
    "        T = F.S \\, W\\, d\\, sin\\left(\\alpha \\right) \n",
    "        \\tag{10}\n",
    "        \\label{pot}\n",
    "    \\end{equation}\n",
    "    $$\n",
    "    Dónde: $F.S$ es el factor de seguridad, $W$ es la carga del molino y $d$ es la distancia al centro de masa.\n",
    "</div>"
   ]
  },
  {
   "cell_type": "markdown",
   "metadata": {
    "slideshow": {
     "slide_type": "subslide"
    }
   },
   "source": [
    "#### 3.6.1. Distancia al centro de masa\n",
    "\n",
    "<div align=\"justify\">\n",
    "    La distancia al centro de masa, se evalúa de la siguiente forma:\n",
    "    $$\n",
    "    \\begin{equation}\n",
    "        d = \\sqrt{\\overline{x}^2 + \\overline{y}^2} \\\\\n",
    "        \\overline{x} A = \\int x \\, dA \\\\\n",
    "        \\overline{y} A = \\int y \\, dA\n",
    "        \\tag{11}\n",
    "        \\label{dcm}\n",
    "    \\end{equation}\n",
    "    $$\n",
    "    El área de una región circular se calcula como:\n",
    "    $$\n",
    "    \\begin{equation}\n",
    "        A = \\frac{1}{2} \\theta r^2\n",
    "        \\tag{12}\n",
    "    \\end{equation}\n",
    "    $$\n",
    "    El ángulo $\\alpha$ que permite tener la mayor energía de impacto es de $45°$. Para convertir la Ecuación \\ref{dcm} en coordenadas polares:\n",
    "    $$\n",
    "    \\begin{equation}\n",
    "        x = r cos \\, \\theta \\\\\n",
    "        y = r sin \\, \\theta \\\\\n",
    "        dA = r \\, dr \\, d\\theta\n",
    "    \\end{equation}\n",
    "    $$\n",
    "</div>"
   ]
  },
  {
   "cell_type": "code",
   "execution_count": 85,
   "metadata": {
    "slideshow": {
     "slide_type": "subslide"
    }
   },
   "outputs": [
    {
     "data": {
      "text/markdown": [
       "1. Área:"
      ],
      "text/plain": [
       "<IPython.core.display.Markdown object>"
      ]
     },
     "metadata": {},
     "output_type": "display_data"
    },
    {
     "data": {
      "text/latex": [
       "$\\displaystyle A = \\int\\limits_{1.25 \\pi}^{\\frac{\\pi}{4}}\\int\\limits_{- r}^{0} r\\, dr\\, d\\theta$"
      ],
      "text/plain": [
       "Eq(A, Integral(r, (r, -r, 0), (\\theta, 1.25*pi, pi/4)))"
      ]
     },
     "metadata": {},
     "output_type": "display_data"
    },
    {
     "data": {
      "text/latex": [
       "$\\displaystyle A = \\frac{\\pi r^{2}}{2}$"
      ],
      "text/plain": [
       "Eq(A, pi*r**2/2)"
      ]
     },
     "metadata": {},
     "output_type": "display_data"
    }
   ],
   "source": [
    "from sympy import *\n",
    "#Datos...\n",
    "r, theta = symbols('r, \\\\theta', real=True, positive=True)\n",
    "A, xbar, ybar,d = symbols(\"A, \\\\bar{x}, \\\\bar{y},d\")\n",
    "dA = r\n",
    "x = r*cos(theta)\n",
    "y = r*sin(theta)\n",
    "\n",
    "#Solución\n",
    "AA = integrate(dA, (r, 0, r), (theta,-pi/2,pi/2))\n",
    "xxbar = integrate(x*dA, (r, -r,0), (theta,(5/4)*pi,pi/4))/AA\n",
    "yybar = integrate(y*dA, (r, -r,0), (theta,(5/4)*pi,pi/4))/AA\n",
    "dd = sqrt(xxbar**2 + yybar**2)\n",
    "\n",
    "#Ecuaciones\n",
    "Area = Eq(A,Integral(dA, (r, -r, 0), (theta,(5/4)*pi,pi/4)))\n",
    "display(Markdown(\"1. Área:\"))\n",
    "display(Area)\n",
    "display(Eq(A, AA))"
   ]
  },
  {
   "cell_type": "code",
   "execution_count": 86,
   "metadata": {
    "slideshow": {
     "slide_type": "subslide"
    }
   },
   "outputs": [
    {
     "data": {
      "text/markdown": [
       "2. $\\bar{x}$:"
      ],
      "text/plain": [
       "<IPython.core.display.Markdown object>"
      ]
     },
     "metadata": {},
     "output_type": "display_data"
    },
    {
     "data": {
      "text/latex": [
       "$\\displaystyle \\bar{x} = \\frac{\\int\\limits_{1.25 \\pi}^{\\frac{\\pi}{4}}\\int\\limits_{- r}^{0} r^{2} \\cos{\\left(\\theta \\right)}\\, dr\\, d\\theta}{A}$"
      ],
      "text/plain": [
       "Eq(\\bar{x}, Integral(r**2*cos(\\theta), (r, -r, 0), (\\theta, 1.25*pi, pi/4))/A)"
      ]
     },
     "metadata": {},
     "output_type": "display_data"
    },
    {
     "data": {
      "text/latex": [
       "$\\displaystyle \\bar{x} = \\frac{2 \\sqrt{2} r}{3 \\pi}$"
      ],
      "text/plain": [
       "Eq(\\bar{x}, 2*sqrt(2)*r/(3*pi))"
      ]
     },
     "metadata": {},
     "output_type": "display_data"
    }
   ],
   "source": [
    "xx = Eq(xbar, (1/A)*Integral(x*dA, (r, -r,0), (theta,(5/4)*pi,pi/4)))\n",
    "display(Markdown(\"2. $\\\\bar{x}$:\"))\n",
    "display(xx)\n",
    "display(Eq(xbar, xxbar))"
   ]
  },
  {
   "cell_type": "code",
   "execution_count": 87,
   "metadata": {
    "slideshow": {
     "slide_type": "subslide"
    }
   },
   "outputs": [
    {
     "data": {
      "text/markdown": [
       "3. $\\bar{y}$:"
      ],
      "text/plain": [
       "<IPython.core.display.Markdown object>"
      ]
     },
     "metadata": {},
     "output_type": "display_data"
    },
    {
     "data": {
      "text/latex": [
       "$\\displaystyle \\bar{y} = \\frac{\\int\\limits_{1.25 \\pi}^{\\frac{\\pi}{4}}\\int\\limits_{- r}^{0} r^{2} \\sin{\\left(\\theta \\right)}\\, dr\\, d\\theta}{A}$"
      ],
      "text/plain": [
       "Eq(\\bar{y}, Integral(r**2*sin(\\theta), (r, -r, 0), (\\theta, 1.25*pi, pi/4))/A)"
      ]
     },
     "metadata": {},
     "output_type": "display_data"
    },
    {
     "data": {
      "text/latex": [
       "$\\displaystyle \\bar{y} = - \\frac{2 \\sqrt{2} r}{3 \\pi}$"
      ],
      "text/plain": [
       "Eq(\\bar{y}, -2*sqrt(2)*r/(3*pi))"
      ]
     },
     "metadata": {},
     "output_type": "display_data"
    },
    {
     "data": {
      "text/markdown": [
       "4. distancia:"
      ],
      "text/plain": [
       "<IPython.core.display.Markdown object>"
      ]
     },
     "metadata": {},
     "output_type": "display_data"
    },
    {
     "data": {
      "text/latex": [
       "$\\displaystyle d = \\sqrt{\\bar{x}^{2} + \\bar{y}^{2}}$"
      ],
      "text/plain": [
       "Eq(d, sqrt(\\bar{x}**2 + \\bar{y}**2))"
      ]
     },
     "metadata": {},
     "output_type": "display_data"
    },
    {
     "data": {
      "text/latex": [
       "$\\displaystyle d = \\frac{4 r}{3 \\pi}$"
      ],
      "text/plain": [
       "Eq(d, 4*r/(3*pi))"
      ]
     },
     "metadata": {},
     "output_type": "display_data"
    }
   ],
   "source": [
    "yy = Eq(ybar, (1/A)*Integral(y*dA, (r, -r,0), (theta,(5/4)*pi,pi/4)))\n",
    "display(Markdown(\"3. $\\\\bar{y}$:\"))\n",
    "display(yy)\n",
    "display(Eq(ybar, yybar))\n",
    "#Solución\n",
    "yybar = integrate(y*dA, (r, -r,0), (theta,(5/4)*pi,pi/4))/AA\n",
    "dd = sqrt(xxbar**2 + yybar**2)\n",
    "display(Markdown(\"4. distancia:\"))\n",
    "display(Eq(d, sqrt(xbar**2 + ybar**2)))\n",
    "display(Eq(d, dd))"
   ]
  },
  {
   "cell_type": "markdown",
   "metadata": {
    "slideshow": {
     "slide_type": "subslide"
    }
   },
   "source": [
    "#### 3.6.2. Cálculo de la potencia"
   ]
  },
  {
   "cell_type": "code",
   "execution_count": 9,
   "metadata": {},
   "outputs": [
    {
     "data": {
      "text/html": [
       "La <strong>potencia teórica</strong> es de $ 6.09 [hp]$"
      ],
      "text/plain": [
       "<IPython.core.display.HTML object>"
      ]
     },
     "metadata": {},
     "output_type": "display_data"
    }
   ],
   "source": [
    "d = dd.subs({r:res['D']/2}).evalf()\n",
    "W = datos['Req']['Capacidad [kg/bache]']*(1+datos['Req']['Relación másica AD - MV'])\n",
    "for key in res['NBolas']:\n",
    "    W += res['NBolas'][key]['masa']\n",
    "W = W*9.81\n",
    "T = datos['Esp']['Factor de seguridad']*W*d*math.sin(math.radians(45))\n",
    "w = res['N']*(2*math.pi/60)\n",
    "res['Pot'] = T*w*(1.34102/1000)\n",
    "display(HTML(\"La <strong>potencia teórica</strong> es de $ \" + str(round(res['Pot'],2)) + \" [hp]$\"))"
   ]
  },
  {
   "cell_type": "code",
   "execution_count": null,
   "metadata": {},
   "outputs": [],
   "source": [
    "W"
   ]
  },
  {
   "cell_type": "markdown",
   "metadata": {
    "slideshow": {
     "slide_type": "subslide"
    }
   },
   "source": [
    "### 3.7. Resumen de resultados\n",
    "\n",
    "<div align=\"justify\">\n",
    "    Los resultados obtenidos se pueden apreciar a continuación:\n",
    "</div>"
   ]
  },
  {
   "cell_type": "code",
   "execution_count": 10,
   "metadata": {},
   "outputs": [
    {
     "data": {
      "text/html": [
       "<div>\n",
       "<style scoped>\n",
       "    .dataframe tbody tr th:only-of-type {\n",
       "        vertical-align: middle;\n",
       "    }\n",
       "\n",
       "    .dataframe tbody tr th {\n",
       "        vertical-align: top;\n",
       "    }\n",
       "\n",
       "    .dataframe thead th {\n",
       "        text-align: right;\n",
       "    }\n",
       "</style>\n",
       "<table border=\"1\" class=\"dataframe\">\n",
       "  <thead>\n",
       "    <tr style=\"text-align: right;\">\n",
       "      <th></th>\n",
       "      <th>Resultados</th>\n",
       "    </tr>\n",
       "  </thead>\n",
       "  <tbody>\n",
       "    <tr>\n",
       "      <th>Diámetro [m]</th>\n",
       "      <td>0.954</td>\n",
       "    </tr>\n",
       "    <tr>\n",
       "      <th>Longitud [m]</th>\n",
       "      <td>1.431</td>\n",
       "    </tr>\n",
       "    <tr>\n",
       "      <th>Potencia [hp]</th>\n",
       "      <td>6.087</td>\n",
       "    </tr>\n",
       "    <tr>\n",
       "      <th>Velocidad de rotación [rpm]</th>\n",
       "      <td>34.648</td>\n",
       "    </tr>\n",
       "    <tr>\n",
       "      <th>Volumen [m3]</th>\n",
       "      <td>1.022</td>\n",
       "    </tr>\n",
       "  </tbody>\n",
       "</table>\n",
       "</div>"
      ],
      "text/plain": [
       "                             Resultados\n",
       "Diámetro [m]                      0.954\n",
       "Longitud [m]                      1.431\n",
       "Potencia [hp]                     6.087\n",
       "Velocidad de rotación [rpm]      34.648\n",
       "Volumen [m3]                      1.022"
      ]
     },
     "execution_count": 10,
     "metadata": {},
     "output_type": "execute_result"
    }
   ],
   "source": [
    "from App.Funcional.Resultados import *\n",
    "result = Ress(res)\n",
    "pd.DataFrame(result)"
   ]
  }
 ],
 "metadata": {
  "kernelspec": {
   "display_name": "Python 3",
   "language": "python",
   "name": "python3"
  },
  "language_info": {
   "codemirror_mode": {
    "name": "ipython",
    "version": 3
   },
   "file_extension": ".py",
   "mimetype": "text/x-python",
   "name": "python",
   "nbconvert_exporter": "python",
   "pygments_lexer": "ipython3",
   "version": "3.7.4"
  }
 },
 "nbformat": 4,
 "nbformat_minor": 4
}
